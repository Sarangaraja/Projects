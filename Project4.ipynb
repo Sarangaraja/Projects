{
 "cells": [
  {
   "cell_type": "code",
   "execution_count": 1,
   "metadata": {},
   "outputs": [],
   "source": [
    "import os\n",
    "import sys\n",
    "os.environ[\"SPARK_HOME\"] = \"/usr/hdp/current/spark2-client\"\n",
    "os.environ[\"PYLIB\"] = os.environ[\"SPARK_HOME\"] + \"/python/lib\"\n",
    "sys.path.insert(0, os.environ[\"PYLIB\"] + \"/py4j-0.10.4-src.zip\")\n",
    "sys.path.insert(0, os.environ[\"PYLIB\"] + \"/pyspark.zip\")"
   ]
  },
  {
   "cell_type": "code",
   "execution_count": 2,
   "metadata": {},
   "outputs": [],
   "source": [
    "from pyspark.conf import SparkConf\n",
    "from pyspark import SparkContext\n",
    "from pyspark.sql import SparkSession\n",
    "\n",
    "conf = SparkConf().setAppName(\"Claim Amount Data Set\").setMaster('local')\n",
    "sc = SparkContext(conf=conf)\n",
    "spark = SparkSession(sc)"
   ]
  },
  {
   "cell_type": "code",
   "execution_count": 3,
   "metadata": {},
   "outputs": [],
   "source": [
    "from pyspark.sql.types import *\n",
    "from pyspark.sql.functions import *\n",
    "\n",
    "from pyspark.sql.functions import isnan, when, count, col, countDistinct"
   ]
  },
  {
   "cell_type": "code",
   "execution_count": 4,
   "metadata": {},
   "outputs": [],
   "source": [
    "DataSchema = StructType([\n",
    "    StructField(\"Row_ID\", IntegerType(), True),\n",
    "    StructField(\"Household_ID\", IntegerType(), True),\n",
    "    StructField(\"Vehicle\", IntegerType(), True),\n",
    "    StructField(\"Calendar_Year\", IntegerType(), True),\n",
    "    StructField(\"Model_Year\", IntegerType(), True),\n",
    "    StructField(\"Blind_Make\", StringType(), True),\n",
    "    StructField(\"Blind_Model\", StringType(), True),\n",
    "    StructField(\"Blind_Submodel\", StringType(), True),        \n",
    "    StructField(\"Cat1\", StringType(), True),\n",
    "    StructField(\"Cat2\", StringType(), True),\n",
    "    StructField(\"Cat3\", StringType(), True),\n",
    "    StructField(\"Cat4\", StringType(), True),\n",
    "    StructField(\"Cat5\", StringType(), True),\n",
    "    StructField(\"Cat6\", StringType(), True),\n",
    "    StructField(\"Cat7\", StringType(), True),\n",
    "    StructField(\"Cat8\", StringType(), True),\n",
    "    StructField(\"Cat9\", StringType(), True),\n",
    "    StructField(\"Cat10\", StringType(), True),\n",
    "    StructField(\"Cat11\", StringType(), True),\n",
    "    StructField(\"Cat12\", StringType(), True),\n",
    "    StructField(\"OrdCat\", IntegerType(), True),\n",
    "    StructField(\"Var1\", DoubleType(), True),\n",
    "    StructField(\"Var2\", DoubleType(), True),\n",
    "    StructField(\"Var3\", DoubleType(), True),\n",
    "    StructField(\"Var4\", DoubleType(), True),\n",
    "    StructField(\"Var5\", DoubleType(), True),\n",
    "    StructField(\"Var6\", DoubleType(), True),\n",
    "    StructField(\"Var7\", DoubleType(), True),\n",
    "    StructField(\"Var8\", DoubleType(), True),\n",
    "    StructField(\"NVCat\", StringType(), True),\n",
    "    StructField(\"NVVar1\", DoubleType(), True),\n",
    "    StructField(\"NVVar2\", DoubleType(), True),\n",
    "    StructField(\"NVVar3\", DoubleType(), True),\n",
    "    StructField(\"NVVar4\", DoubleType(), True),\n",
    "    StructField(\"Claim_Amount\", DoubleType(), True)])"
   ]
  },
  {
   "cell_type": "markdown",
   "metadata": {},
   "source": [
    "#Q1:Create a dataframe for above csv data.using spark.read.format()\n",
    "(First line in the dataset is header)."
   ]
  },
  {
   "cell_type": "code",
   "execution_count": 5,
   "metadata": {},
   "outputs": [],
   "source": [
    "## Read data and create a dataframe\n",
    "data = spark.read.format(\"csv\")\\\n",
    "       .option(\"header\", \"true\")\\\n",
    "       .option(\"inferSchema\", \"true\")\\\n",
    "       .option(\"nullValue\", \"?\")\\\n",
    "       .option(\"ignoreTrailingWhiteSpace\",\"true\")\\\n",
    "       .option(\"ignoreLeadingWhiteSpace\",\"true\")\\\n",
    "       .option(\"quote\",'\"')\\\n",
    "       .load('file:///home/1844B39/CUTe5/sample_set.csv', schema = DataSchema)\n",
    "\n",
    "#data=spark.read.csv(\"file:///home/1844B39/CUTe5/sample_set.csv\",nullValue=\"?\",nanValue=\"NA\",header=True,ignoreTrailingWhiteSpace=True,ignoreLeadingWhiteSpace=True,inferSchema=True)"
   ]
  },
  {
   "cell_type": "markdown",
   "metadata": {},
   "source": [
    "##Understanding the data"
   ]
  },
  {
   "cell_type": "code",
   "execution_count": 6,
   "metadata": {},
   "outputs": [
    {
     "name": "stdout",
     "output_type": "stream",
     "text": [
      "root\n",
      " |-- Row_ID: integer (nullable = true)\n",
      " |-- Household_ID: integer (nullable = true)\n",
      " |-- Vehicle: integer (nullable = true)\n",
      " |-- Calendar_Year: integer (nullable = true)\n",
      " |-- Model_Year: integer (nullable = true)\n",
      " |-- Blind_Make: string (nullable = true)\n",
      " |-- Blind_Model: string (nullable = true)\n",
      " |-- Blind_Submodel: string (nullable = true)\n",
      " |-- Cat1: string (nullable = true)\n",
      " |-- Cat2: string (nullable = true)\n",
      " |-- Cat3: string (nullable = true)\n",
      " |-- Cat4: string (nullable = true)\n",
      " |-- Cat5: string (nullable = true)\n",
      " |-- Cat6: string (nullable = true)\n",
      " |-- Cat7: string (nullable = true)\n",
      " |-- Cat8: string (nullable = true)\n",
      " |-- Cat9: string (nullable = true)\n",
      " |-- Cat10: string (nullable = true)\n",
      " |-- Cat11: string (nullable = true)\n",
      " |-- Cat12: string (nullable = true)\n",
      " |-- OrdCat: integer (nullable = true)\n",
      " |-- Var1: double (nullable = true)\n",
      " |-- Var2: double (nullable = true)\n",
      " |-- Var3: double (nullable = true)\n",
      " |-- Var4: double (nullable = true)\n",
      " |-- Var5: double (nullable = true)\n",
      " |-- Var6: double (nullable = true)\n",
      " |-- Var7: double (nullable = true)\n",
      " |-- Var8: double (nullable = true)\n",
      " |-- NVCat: string (nullable = true)\n",
      " |-- NVVar1: double (nullable = true)\n",
      " |-- NVVar2: double (nullable = true)\n",
      " |-- NVVar3: double (nullable = true)\n",
      " |-- NVVar4: double (nullable = true)\n",
      " |-- Claim_Amount: double (nullable = true)\n",
      "\n"
     ]
    }
   ],
   "source": [
    "data.printSchema()"
   ]
  },
  {
   "cell_type": "code",
   "execution_count": 7,
   "metadata": {},
   "outputs": [
    {
     "data": {
      "text/plain": [
       "[('Row_ID', 'int'),\n",
       " ('Household_ID', 'int'),\n",
       " ('Vehicle', 'int'),\n",
       " ('Calendar_Year', 'int'),\n",
       " ('Model_Year', 'int'),\n",
       " ('Blind_Make', 'string'),\n",
       " ('Blind_Model', 'string'),\n",
       " ('Blind_Submodel', 'string'),\n",
       " ('Cat1', 'string'),\n",
       " ('Cat2', 'string'),\n",
       " ('Cat3', 'string'),\n",
       " ('Cat4', 'string'),\n",
       " ('Cat5', 'string'),\n",
       " ('Cat6', 'string'),\n",
       " ('Cat7', 'string'),\n",
       " ('Cat8', 'string'),\n",
       " ('Cat9', 'string'),\n",
       " ('Cat10', 'string'),\n",
       " ('Cat11', 'string'),\n",
       " ('Cat12', 'string'),\n",
       " ('OrdCat', 'int'),\n",
       " ('Var1', 'double'),\n",
       " ('Var2', 'double'),\n",
       " ('Var3', 'double'),\n",
       " ('Var4', 'double'),\n",
       " ('Var5', 'double'),\n",
       " ('Var6', 'double'),\n",
       " ('Var7', 'double'),\n",
       " ('Var8', 'double'),\n",
       " ('NVCat', 'string'),\n",
       " ('NVVar1', 'double'),\n",
       " ('NVVar2', 'double'),\n",
       " ('NVVar3', 'double'),\n",
       " ('NVVar4', 'double'),\n",
       " ('Claim_Amount', 'double')]"
      ]
     },
     "execution_count": 7,
     "metadata": {},
     "output_type": "execute_result"
    }
   ],
   "source": [
    "data.dtypes"
   ]
  },
  {
   "cell_type": "markdown",
   "metadata": {},
   "source": [
    "##Total no. of Rows and Columns"
   ]
  },
  {
   "cell_type": "code",
   "execution_count": 8,
   "metadata": {},
   "outputs": [
    {
     "name": "stdout",
     "output_type": "stream",
     "text": [
      "No. of Columns = 35\n",
      "No. of Records = 1000000\n"
     ]
    }
   ],
   "source": [
    "print(\"No. of Columns = {}\".format(len(data.columns)))\n",
    "\n",
    "print('No. of Records = {}'.format(data.count()))"
   ]
  },
  {
   "cell_type": "code",
   "execution_count": 9,
   "metadata": {},
   "outputs": [
    {
     "data": {
      "text/plain": [
       "[Row(Row_ID=11133137, Household_ID=6690958, Vehicle=1, Calendar_Year=2006, Model_Year=1992, Blind_Make=u'BW', Blind_Model=u'BW.33', Blind_Submodel=u'BW.33.1', Cat1=u'D', Cat2=None, Cat3=u'C', Cat4=None, Cat5=None, Cat6=u'E', Cat7=None, Cat8=u'A', Cat9=u'B', Cat10=u'A', Cat11=u'B', Cat12=u'D', OrdCat=5, Var1=3.4962213, Var2=0.740051, Var3=1.0972409, Var4=1.0774881, Var5=2.7216895, Var6=2.4425492, Var7=1.6081873, Var8=-0.1821408, NVCat=u'O', NVVar1=-0.2315299, NVVar2=-0.2661168, NVVar3=-0.2723372, NVVar4=-0.2514189, Claim_Amount=0.0),\n",
       " Row(Row_ID=12066135, Household_ID=7022371, Vehicle=2, Calendar_Year=2005, Model_Year=1995, Blind_Make=u'M', Blind_Model=u'M.16', Blind_Submodel=u'M.16.1', Cat1=u'B', Cat2=None, Cat3=u'A', Cat4=u'A', Cat5=u'A', Cat6=u'C', Cat7=u'C', Cat8=u'A', Cat9=u'B', Cat10=u'B', Cat11=u'A', Cat12=u'D', OrdCat=2, Var1=-0.7703518, Var2=-1.5077976, Var3=-1.0316697, Var4=-1.5441353, Var5=-0.8822796, Var6=-1.4771497, Var7=-1.2548265, Var8=-0.9952642, NVCat=u'M', NVVar1=-0.2315299, NVVar2=-0.2661168, NVVar3=-0.2723372, NVVar4=-0.2514189, Claim_Amount=0.0),\n",
       " Row(Row_ID=5738430, Household_ID=3900158, Vehicle=2, Calendar_Year=2007, Model_Year=2000, Blind_Make=u'AJ', Blind_Model=u'AJ.58', Blind_Submodel=u'AJ.58.2', Cat1=u'D', Cat2=u'C', Cat3=u'A', Cat4=None, Cat5=None, Cat6=u'D', Cat7=None, Cat8=u'A', Cat9=u'B', Cat10=u'B', Cat11=u'A', Cat12=u'E', OrdCat=5, Var1=2.130275, Var2=0.8265067, Var3=1.4674863, Var4=1.1620566, Var5=1.9664022, Var6=0.7219055, Var7=1.2272713, Var8=-0.2311491, NVCat=u'O', NVVar1=6.62711, NVVar2=-0.2661168, NVVar3=-0.2723372, NVVar4=-0.2514189, Claim_Amount=0.0)]"
      ]
     },
     "execution_count": 9,
     "metadata": {},
     "output_type": "execute_result"
    }
   ],
   "source": [
    "data.head(3)"
   ]
  },
  {
   "cell_type": "code",
   "execution_count": 10,
   "metadata": {},
   "outputs": [
    {
     "name": "stdout",
     "output_type": "stream",
     "text": [
      "+--------+------------+-------+-------------+----------+----------+-----------+--------------+----+----+----+----+----+----+----+----+----+-----+-----+-----+------+----------+----------+----------+----------+----------+----------+----------+----------+-----+----------+----------+----------+----------+------------+\n",
      "|  Row_ID|Household_ID|Vehicle|Calendar_Year|Model_Year|Blind_Make|Blind_Model|Blind_Submodel|Cat1|Cat2|Cat3|Cat4|Cat5|Cat6|Cat7|Cat8|Cat9|Cat10|Cat11|Cat12|OrdCat|      Var1|      Var2|      Var3|      Var4|      Var5|      Var6|      Var7|      Var8|NVCat|    NVVar1|    NVVar2|    NVVar3|    NVVar4|Claim_Amount|\n",
      "+--------+------------+-------+-------------+----------+----------+-----------+--------------+----+----+----+----+----+----+----+----+----+-----+-----+-----+------+----------+----------+----------+----------+----------+----------+----------+----------+-----+----------+----------+----------+----------+------------+\n",
      "|11133137|     6690958|      1|         2006|      1992|        BW|      BW.33|       BW.33.1|   D|null|   C|null|null|   E|null|   A|   B|    A|    B|    D|     5| 3.4962213|  0.740051| 1.0972409| 1.0774881| 2.7216895| 2.4425492| 1.6081873|-0.1821408|    O|-0.2315299|-0.2661168|-0.2723372|-0.2514189|         0.0|\n",
      "|12066135|     7022371|      2|         2005|      1995|         M|       M.16|        M.16.1|   B|null|   A|   A|   A|   C|   C|   A|   B|    B|    A|    D|     2|-0.7703518|-1.5077976|-1.0316697|-1.5441353|-0.8822796|-1.4771497|-1.2548265|-0.9952642|    M|-0.2315299|-0.2661168|-0.2723372|-0.2514189|         0.0|\n",
      "| 5738430|     3900158|      2|         2007|      2000|        AJ|      AJ.58|       AJ.58.2|   D|   C|   A|null|null|   D|null|   A|   B|    B|    A|    E|     5|  2.130275| 0.8265067| 1.4674863| 1.1620566| 1.9664022| 0.7219055| 1.2272713|-0.2311491|    O|   6.62711|-0.2661168|-0.2723372|-0.2514189|         0.0|\n",
      "+--------+------------+-------+-------------+----------+----------+-----------+--------------+----+----+----+----+----+----+----+----+----+-----+-----+-----+------+----------+----------+----------+----------+----------+----------+----------+----------+-----+----------+----------+----------+----------+------------+\n",
      "only showing top 3 rows\n",
      "\n"
     ]
    }
   ],
   "source": [
    "data.show(3)"
   ]
  },
  {
   "cell_type": "markdown",
   "metadata": {},
   "source": [
    "## Q2:Verify summary of the dataframe (how many rows and columns)"
   ]
  },
  {
   "cell_type": "code",
   "execution_count": 11,
   "metadata": {},
   "outputs": [
    {
     "name": "stdout",
     "output_type": "stream",
     "text": [
      "+-------+------------------+------------------+------------------+-----------------+-----------------+----------+-----------+--------------+------+------+------+------+------+------+------+------+-------+------+------+------+------------------+--------------------+--------------------+--------------------+--------------------+--------------------+--------------------+-------------------+--------------------+-------+--------------------+-------------------+-------------------+--------------------+------------------+\n",
      "|summary|            Row_ID|      Household_ID|           Vehicle|    Calendar_Year|       Model_Year|Blind_Make|Blind_Model|Blind_Submodel|  Cat1|  Cat2|  Cat3|  Cat4|  Cat5|  Cat6|  Cat7|  Cat8|   Cat9| Cat10| Cat11| Cat12|            OrdCat|                Var1|                Var2|                Var3|                Var4|                Var5|                Var6|               Var7|                Var8|  NVCat|              NVVar1|             NVVar2|             NVVar3|              NVVar4|      Claim_Amount|\n",
      "+-------+------------------+------------------+------------------+-----------------+-----------------+----------+-----------+--------------+------+------+------+------+------+------+------+------+-------+------+------+------+------------------+--------------------+--------------------+--------------------+--------------------+--------------------+--------------------+-------------------+--------------------+-------+--------------------+-------------------+-------------------+--------------------+------------------+\n",
      "|  count|           1000000|           1000000|           1000000|          1000000|          1000000|    999347|     999347|        999347|998005|630379|999675|573431|573031|998005|456678|999722|1000000|999686|997684|997866|            999432|             1000000|             1000000|             1000000|             1000000|             1000000|             1000000|            1000000|             1000000|1000000|             1000000|            1000000|            1000000|             1000000|           1000000|\n",
      "|   mean|    6583188.357457|    4122825.186947|          1.891365|      2006.053556|      1999.311365|      null|       null|          null|  null|  null|  null|  null|  null|  null|  null|  null|   null|  null|  null|  null| 3.587538721994093|-0.01037238654880...|-0.06580639300160342|-0.02601436057320...|-0.05565008245766...|0.003968637178899917|-0.04091192292679...|-0.0256218856684619|-0.05853358756162267|   null|0.016576779398987843|0.01807720203349715|0.01297835330306511|0.017849918759226303|1.3320145248232176|\n",
      "| stddev|3806666.3761058636|2249243.2235329812|1.1704626464598529|0.812612093930699|5.209874084808875|      null|       null|          null|  null|  null|  null|  null|  null|  null|  null|  null|   null|  null|  null|  null|1.1574392400790308|  0.9789404132097013|  0.9674634673204596|  1.0180964646021236|  0.9669233956531307|  0.9899389132151997|  0.9784660229835268|  1.005825332951123|  1.0018036290916967|   null|  1.0358399905051152| 1.0401359971871218| 1.0243301246208074|  1.0333234952224424| 38.21040267464377|\n",
      "|    min|                 1|                 1|                 1|             2005|             1981|         A|        A.3|         A.3.0|     A|     A|     A|     A|     A|     B|     A|     A|      A|     A|     A|     A|                 1|          -2.5782218|          -2.4933927|          -2.7903352|          -2.5082161|          -3.3503442|          -2.3766568|         -2.7784905|          -1.9651488|      A|          -0.2315299|         -0.2661168|         -0.2723372|          -0.2514189|               0.0|\n",
      "|    max|          13184224|           7542055|                24|             2007|             2008|         Z|        Z.8|         Z.8.0|     J|     C|     F|     C|     C|     F|     D|     C|      B|     C|     F|     F|                 7|           5.1433916|           7.4317231|           5.5633254|           7.2002473|           4.0062723|           4.5842886|          4.1271482|          47.3507385|      O|             6.62711|          8.8830814|           8.691144|           6.3888025|          8045.917|\n",
      "+-------+------------------+------------------+------------------+-----------------+-----------------+----------+-----------+--------------+------+------+------+------+------+------+------+------+-------+------+------+------+------------------+--------------------+--------------------+--------------------+--------------------+--------------------+--------------------+-------------------+--------------------+-------+--------------------+-------------------+-------------------+--------------------+------------------+\n",
      "\n"
     ]
    }
   ],
   "source": [
    "data.describe().show()"
   ]
  },
  {
   "cell_type": "markdown",
   "metadata": {},
   "source": [
    "##Q3:As the '?' describes the unknown data in each column, identify\n",
    "##how many columns exists with '?' (NAs)"
   ]
  },
  {
   "cell_type": "code",
   "execution_count": 12,
   "metadata": {
    "scrolled": true
   },
   "outputs": [
    {
     "name": "stdout",
     "output_type": "stream",
     "text": [
      "+------+------------+-------+-------------+----------+----------+-----------+--------------+----+------+----+------+------+----+------+----+----+-----+-----+-----+------+----+----+----+----+----+----+----+----+-----+------+------+------+------+------------+\n",
      "|Row_ID|Household_ID|Vehicle|Calendar_Year|Model_Year|Blind_Make|Blind_Model|Blind_Submodel|Cat1|  Cat2|Cat3|  Cat4|  Cat5|Cat6|  Cat7|Cat8|Cat9|Cat10|Cat11|Cat12|OrdCat|Var1|Var2|Var3|Var4|Var5|Var6|Var7|Var8|NVCat|NVVar1|NVVar2|NVVar3|NVVar4|Claim_Amount|\n",
      "+------+------------+-------+-------------+----------+----------+-----------+--------------+----+------+----+------+------+----+------+----+----+-----+-----+-----+------+----+----+----+----+----+----+----+----+-----+------+------+------+------+------------+\n",
      "|     0|           0|      0|            0|         0|       653|        653|           653|1995|369621| 325|426569|426969|1995|543322| 278|   0|  314| 2316| 2134|   568|   0|   0|   0|   0|   0|   0|   0|   0|    0|     0|     0|     0|     0|           0|\n",
      "+------+------------+-------+-------------+----------+----------+-----------+--------------+----+------+----+------+------+----+------+----+----+-----+-----+-----+------+----+----+----+----+----+----+----+----+-----+------+------+------+------+------------+\n",
      "\n"
     ]
    }
   ],
   "source": [
    "data.select([count(when(isnan(c) | col(c).isNull(), c)).alias(c) for c in data.columns]).show()"
   ]
  },
  {
   "cell_type": "markdown",
   "metadata": {},
   "source": [
    "##Q5:Remove all the columns where the no. of rows with '?' exceeds 35%\n",
    "#for that column."
   ]
  },
  {
   "cell_type": "code",
   "execution_count": 13,
   "metadata": {},
   "outputs": [],
   "source": [
    "data=data.drop('Cat2','Cat4','Cat5','Cat7')"
   ]
  },
  {
   "cell_type": "code",
   "execution_count": 14,
   "metadata": {},
   "outputs": [
    {
     "name": "stdout",
     "output_type": "stream",
     "text": [
      "+--------+------------+-------+-------------+----------+----------+-----------+--------------+----+----+----+----+----+-----+-----+-----+------+----------+----------+----------+----------+----------+----------+----------+----------+-----+----------+----------+----------+----------+------------+\n",
      "|  Row_ID|Household_ID|Vehicle|Calendar_Year|Model_Year|Blind_Make|Blind_Model|Blind_Submodel|Cat1|Cat3|Cat6|Cat8|Cat9|Cat10|Cat11|Cat12|OrdCat|      Var1|      Var2|      Var3|      Var4|      Var5|      Var6|      Var7|      Var8|NVCat|    NVVar1|    NVVar2|    NVVar3|    NVVar4|Claim_Amount|\n",
      "+--------+------------+-------+-------------+----------+----------+-----------+--------------+----+----+----+----+----+-----+-----+-----+------+----------+----------+----------+----------+----------+----------+----------+----------+-----+----------+----------+----------+----------+------------+\n",
      "|11133137|     6690958|      1|         2006|      1992|        BW|      BW.33|       BW.33.1|   D|   C|   E|   A|   B|    A|    B|    D|     5| 3.4962213|  0.740051| 1.0972409| 1.0774881| 2.7216895| 2.4425492| 1.6081873|-0.1821408|    O|-0.2315299|-0.2661168|-0.2723372|-0.2514189|         0.0|\n",
      "|12066135|     7022371|      2|         2005|      1995|         M|       M.16|        M.16.1|   B|   A|   C|   A|   B|    B|    A|    D|     2|-0.7703518|-1.5077976|-1.0316697|-1.5441353|-0.8822796|-1.4771497|-1.2548265|-0.9952642|    M|-0.2315299|-0.2661168|-0.2723372|-0.2514189|         0.0|\n",
      "+--------+------------+-------+-------------+----------+----------+-----------+--------------+----+----+----+----+----+-----+-----+-----+------+----------+----------+----------+----------+----------+----------+----------+----------+-----+----------+----------+----------+----------+------------+\n",
      "only showing top 2 rows\n",
      "\n"
     ]
    }
   ],
   "source": [
    "data.show(2)"
   ]
  },
  {
   "cell_type": "code",
   "execution_count": 15,
   "metadata": {},
   "outputs": [],
   "source": [
    "data=data.drop('OrdCat')"
   ]
  },
  {
   "cell_type": "markdown",
   "metadata": {},
   "source": [
    "##Q4:Replace all '?' values in the result data frame as NAs.\n",
    "\n",
    "#Done while reading the csv"
   ]
  },
  {
   "cell_type": "code",
   "execution_count": 16,
   "metadata": {},
   "outputs": [
    {
     "name": "stdout",
     "output_type": "stream",
     "text": [
      "No. of Columns = 30\n"
     ]
    }
   ],
   "source": [
    "print(\"No. of Columns = {}\".format(len(data.columns)))"
   ]
  },
  {
   "cell_type": "markdown",
   "metadata": {},
   "source": [
    "#Q6:Fill remaining Null Values with Zeroes in the entire dataset, if any."
   ]
  },
  {
   "cell_type": "code",
   "execution_count": 17,
   "metadata": {},
   "outputs": [],
   "source": [
    "data= data.select(data.columns[0:31]).fillna(\"0\")"
   ]
  },
  {
   "cell_type": "code",
   "execution_count": 18,
   "metadata": {},
   "outputs": [
    {
     "name": "stdout",
     "output_type": "stream",
     "text": [
      "+------+------------+-------+-------------+----------+----------+-----------+--------------+----+----+----+----+----+-----+-----+-----+----+----+----+----+----+----+----+----+-----+------+------+------+------+------------+\n",
      "|Row_ID|Household_ID|Vehicle|Calendar_Year|Model_Year|Blind_Make|Blind_Model|Blind_Submodel|Cat1|Cat3|Cat6|Cat8|Cat9|Cat10|Cat11|Cat12|Var1|Var2|Var3|Var4|Var5|Var6|Var7|Var8|NVCat|NVVar1|NVVar2|NVVar3|NVVar4|Claim_Amount|\n",
      "+------+------------+-------+-------------+----------+----------+-----------+--------------+----+----+----+----+----+-----+-----+-----+----+----+----+----+----+----+----+----+-----+------+------+------+------+------------+\n",
      "|     0|           0|      0|            0|         0|         0|          0|             0|   0|   0|   0|   0|   0|    0|    0|    0|   0|   0|   0|   0|   0|   0|   0|   0|    0|     0|     0|     0|     0|           0|\n",
      "+------+------------+-------+-------------+----------+----------+-----------+--------------+----+----+----+----+----+-----+-----+-----+----+----+----+----+----+----+----+----+-----+------+------+------+------+------------+\n",
      "\n"
     ]
    }
   ],
   "source": [
    "data.select([count(when(isnan(c) | col(c).isNull(), c)).alias(c) for c in data.columns]).show()"
   ]
  },
  {
   "cell_type": "markdown",
   "metadata": {},
   "source": [
    "##Q7:Derive a new column Vehicle_age = Current Year - Model year"
   ]
  },
  {
   "cell_type": "code",
   "execution_count": 19,
   "metadata": {},
   "outputs": [],
   "source": [
    "data=data.withColumn('Vehicle_age', data.Calendar_Year - data.Model_Year)"
   ]
  },
  {
   "cell_type": "code",
   "execution_count": 20,
   "metadata": {},
   "outputs": [
    {
     "name": "stdout",
     "output_type": "stream",
     "text": [
      "+-------------+----------+-----------+\n",
      "|Calendar_Year|Model_Year|Vehicle_age|\n",
      "+-------------+----------+-----------+\n",
      "|         2006|      1992|         14|\n",
      "|         2005|      1995|         10|\n",
      "|         2007|      2000|          7|\n",
      "|         2005|      1992|         13|\n",
      "|         2006|      2003|          3|\n",
      "|         2005|      2005|          0|\n",
      "|         2007|      1995|         12|\n",
      "|         2007|      2000|          7|\n",
      "|         2006|      1998|          8|\n",
      "|         2006|      2000|          6|\n",
      "+-------------+----------+-----------+\n",
      "only showing top 10 rows\n",
      "\n"
     ]
    }
   ],
   "source": [
    "data.select(\"Calendar_Year\",\"Model_Year\",\"Vehicle_age\").show(10)"
   ]
  },
  {
   "cell_type": "markdown",
   "metadata": {},
   "source": [
    "#Q8:Extract all the non-zero records from the dataset(> 0) into a new\n",
    "#dataframe and verify the number of rows."
   ]
  },
  {
   "cell_type": "code",
   "execution_count": 21,
   "metadata": {},
   "outputs": [],
   "source": [
    "data2=data.where(data.Claim_Amount > 0)"
   ]
  },
  {
   "cell_type": "code",
   "execution_count": 22,
   "metadata": {},
   "outputs": [
    {
     "data": {
      "text/plain": [
       "7249"
      ]
     },
     "execution_count": 22,
     "metadata": {},
     "output_type": "execute_result"
    }
   ],
   "source": [
    "data2.select('Claim_Amount').count()"
   ]
  },
  {
   "cell_type": "markdown",
   "metadata": {},
   "source": [
    "#Q9:Remove the columns Row_ID, Household_ID and Vehicle from the\n",
    "#original dataframe."
   ]
  },
  {
   "cell_type": "code",
   "execution_count": 23,
   "metadata": {},
   "outputs": [],
   "source": [
    "data2=data2.drop('Household_ID','Vehicle','Row_ID')"
   ]
  },
  {
   "cell_type": "markdown",
   "metadata": {},
   "source": [
    "#Q10: Create two new dataframes\n",
    "A. train_DF, For the data where Calendar_Year = 2005 and 2006\n",
    "B. test_DF, For the data where Calendar_Year = 2007"
   ]
  },
  {
   "cell_type": "code",
   "execution_count": 24,
   "metadata": {},
   "outputs": [],
   "source": [
    "train_DF=data2.where((data2.Calendar_Year == 2005 )| (data2.Calendar_Year == 2006))"
   ]
  },
  {
   "cell_type": "code",
   "execution_count": 25,
   "metadata": {},
   "outputs": [],
   "source": [
    "test_DF=data2.where(data2.Calendar_Year == 2007)"
   ]
  },
  {
   "cell_type": "code",
   "execution_count": 26,
   "metadata": {},
   "outputs": [
    {
     "data": {
      "text/plain": [
       "[('Calendar_Year', 'int'),\n",
       " ('Model_Year', 'int'),\n",
       " ('Blind_Make', 'string'),\n",
       " ('Blind_Model', 'string'),\n",
       " ('Blind_Submodel', 'string'),\n",
       " ('Cat1', 'string'),\n",
       " ('Cat3', 'string'),\n",
       " ('Cat6', 'string'),\n",
       " ('Cat8', 'string'),\n",
       " ('Cat9', 'string'),\n",
       " ('Cat10', 'string'),\n",
       " ('Cat11', 'string'),\n",
       " ('Cat12', 'string'),\n",
       " ('Var1', 'double'),\n",
       " ('Var2', 'double'),\n",
       " ('Var3', 'double'),\n",
       " ('Var4', 'double'),\n",
       " ('Var5', 'double'),\n",
       " ('Var6', 'double'),\n",
       " ('Var7', 'double'),\n",
       " ('Var8', 'double'),\n",
       " ('NVCat', 'string'),\n",
       " ('NVVar1', 'double'),\n",
       " ('NVVar2', 'double'),\n",
       " ('NVVar3', 'double'),\n",
       " ('NVVar4', 'double'),\n",
       " ('Claim_Amount', 'double'),\n",
       " ('Vehicle_age', 'int')]"
      ]
     },
     "execution_count": 26,
     "metadata": {},
     "output_type": "execute_result"
    }
   ],
   "source": [
    "data2.dtypes"
   ]
  },
  {
   "cell_type": "markdown",
   "metadata": {},
   "source": [
    "#Q11:Separate into Categorical and Continuous attributes."
   ]
  },
  {
   "cell_type": "code",
   "execution_count": 27,
   "metadata": {},
   "outputs": [],
   "source": [
    "cat_Var_Names = ['Cat1','Cat3','Cat6','Cat8','Cat9','Cat10','Cat11','Cat12','NVCat']\n",
    "\n",
    "num_Var_Names = ['Calendar_Year','Model_Year','Var1','Var2','Var3','Var4','Var5','Var6','Var7','Var8','NVVar1','NVVar2','NVVar3','NVVar4','Vehicle_age']"
   ]
  },
  {
   "cell_type": "code",
   "execution_count": 28,
   "metadata": {},
   "outputs": [],
   "source": [
    "from pyspark.ml.feature import VectorAssembler\n",
    "\n",
    "assembler_Num = VectorAssembler(inputCols=num_Var_Names,outputCol=\"num_features\")"
   ]
  },
  {
   "cell_type": "code",
   "execution_count": 29,
   "metadata": {},
   "outputs": [],
   "source": [
    "from pyspark.ml.feature import MinMaxScaler\n",
    "\n",
    "min_Max_Scalar = MinMaxScaler(inputCol=\"num_features\",outputCol=\"scaled_num_features\")"
   ]
  },
  {
   "cell_type": "markdown",
   "metadata": {},
   "source": [
    "#Q12:Encode Categorical attributes. (Dummy)"
   ]
  },
  {
   "cell_type": "code",
   "execution_count": 30,
   "metadata": {},
   "outputs": [],
   "source": [
    "from pyspark.ml.feature import OneHotEncoder, StringIndexer, VectorAssembler\n",
    "\n",
    "indexers_Cat = [StringIndexer(inputCol=cat_Var_Name, outputCol=\"{0}_index\".format(cat_Var_Name)) for cat_Var_Name in cat_Var_Names ]\n",
    "encoders_Cat = [OneHotEncoder(inputCol=indexer.getOutputCol(),outputCol=\"{0}_vec\".format(indexer.getInputCol())) for indexer in indexers_Cat]\n",
    "assembler_Cat = VectorAssembler(inputCols=[encoder.getOutputCol() for encoder in encoders_Cat],outputCol=\"cat_features\")\n",
    "\n",
    "assembler = VectorAssembler(inputCols=[\"scaled_num_features\", \"cat_features\"], outputCol=\"features\")"
   ]
  },
  {
   "cell_type": "markdown",
   "metadata": {},
   "source": [
    "#Q13:Create a vector for all the predictor variable."
   ]
  },
  {
   "cell_type": "code",
   "execution_count": 31,
   "metadata": {},
   "outputs": [],
   "source": [
    "preprocessiong_Stages = [assembler_Num]+[min_Max_Scalar]+indexers_Cat+encoders_Cat+[assembler_Cat]+[assembler]"
   ]
  },
  {
   "cell_type": "markdown",
   "metadata": {},
   "source": [
    "#Q14:Set the target variable (label)"
   ]
  },
  {
   "cell_type": "code",
   "execution_count": 32,
   "metadata": {},
   "outputs": [],
   "source": [
    "from pyspark.ml.regression import LinearRegression\n",
    "\n",
    "lr = LinearRegression(maxIter=10,labelCol=\"Claim_Amount\",featuresCol=\"features\")"
   ]
  },
  {
   "cell_type": "code",
   "execution_count": 33,
   "metadata": {},
   "outputs": [],
   "source": [
    "from pyspark.ml import Pipeline\n",
    "\n",
    "lr_Pipeline = Pipeline(stages=preprocessiong_Stages+[lr])\n",
    "\n",
    "lr_Pipeline_model = lr_Pipeline.fit(train_DF)"
   ]
  },
  {
   "cell_type": "code",
   "execution_count": 34,
   "metadata": {},
   "outputs": [
    {
     "name": "stdout",
     "output_type": "stream",
     "text": [
      "Coefficients: [-16.6331716686,-17.7237690177,-156.091775741,-43.2731039348,205.762211142,-25.2403535726,10.5325356314,-26.2854096682,-38.5624478296,-116.930534108,1.97391779298,-60.4440147853,-127.13425807,-75.9438903337,12.5478469249,-5.81290224198,21.1468045337,39.4230103955,8.68020590486,-45.1281314465,-15.4075147535,-12.4507001397,-10.8016171057,-73.3680026176,-100.053398712,-10.8318346916,47.8316666295,-36.5846492835,3.23314450931,-12.3632175203,1.07887142713,-12.144508321,-1.90588693731,33.1490955793,-14.8120088349,-12.7884425866,3.71686549559,1.70936095573,-8.97185197674,-8.02194151158,2.55990747788,-0.388889873628,8.62385280362,5.00976740969,-5.19664444067,-17.53184659,22.0157355399,13.7357194818,-20.5326401431,-0.898932825101,-1.41458364105,-3.40253724119,39.3054311726,-57.781159864,32.9039800481,6.00326412545,-30.2010165692,-20.1591791388,24.1557461019,-11.5485701054,22.3977302263,-65.4700410801,-23.4435645212,-72.2255934622,-132.581486846,-92.6773870882,-30.4807924913,-29.3426218105]\n",
      "Intercept: 270.235728674\n"
     ]
    }
   ],
   "source": [
    "print(\"Coefficients: \" + str(lr_Pipeline_model.stages[-1].coefficients))\n",
    "print(\"Intercept: \" + str(lr_Pipeline_model.stages[-1].intercept))"
   ]
  },
  {
   "cell_type": "code",
   "execution_count": 35,
   "metadata": {},
   "outputs": [
    {
     "data": {
      "text/plain": [
       "<pyspark.ml.regression.LinearRegressionTrainingSummary at 0x3522710>"
      ]
     },
     "execution_count": 35,
     "metadata": {},
     "output_type": "execute_result"
    }
   ],
   "source": [
    "lr_Summary = lr_Pipeline_model.stages[-1].summary\n",
    "print(lr_Summary)"
   ]
  },
  {
   "cell_type": "code",
   "execution_count": 36,
   "metadata": {},
   "outputs": [],
   "source": [
    "train_predictions_lr = lr_Pipeline_model.transform(train_DF)\n",
    "test_predictions_lr = lr_Pipeline_model.transform(test_DF)"
   ]
  },
  {
   "cell_type": "code",
   "execution_count": 37,
   "metadata": {},
   "outputs": [
    {
     "data": {
      "text/plain": [
       "[('Calendar_Year', 'int'),\n",
       " ('Model_Year', 'int'),\n",
       " ('Blind_Make', 'string'),\n",
       " ('Blind_Model', 'string'),\n",
       " ('Blind_Submodel', 'string'),\n",
       " ('Cat1', 'string'),\n",
       " ('Cat3', 'string'),\n",
       " ('Cat6', 'string'),\n",
       " ('Cat8', 'string'),\n",
       " ('Cat9', 'string'),\n",
       " ('Cat10', 'string'),\n",
       " ('Cat11', 'string'),\n",
       " ('Cat12', 'string'),\n",
       " ('Var1', 'double'),\n",
       " ('Var2', 'double'),\n",
       " ('Var3', 'double'),\n",
       " ('Var4', 'double'),\n",
       " ('Var5', 'double'),\n",
       " ('Var6', 'double'),\n",
       " ('Var7', 'double'),\n",
       " ('Var8', 'double'),\n",
       " ('NVCat', 'string'),\n",
       " ('NVVar1', 'double'),\n",
       " ('NVVar2', 'double'),\n",
       " ('NVVar3', 'double'),\n",
       " ('NVVar4', 'double'),\n",
       " ('Claim_Amount', 'double'),\n",
       " ('Vehicle_age', 'int'),\n",
       " ('num_features', 'vector'),\n",
       " ('scaled_num_features', 'vector'),\n",
       " ('Cat1_index', 'double'),\n",
       " ('Cat3_index', 'double'),\n",
       " ('Cat6_index', 'double'),\n",
       " ('Cat8_index', 'double'),\n",
       " ('Cat9_index', 'double'),\n",
       " ('Cat10_index', 'double'),\n",
       " ('Cat11_index', 'double'),\n",
       " ('Cat12_index', 'double'),\n",
       " ('NVCat_index', 'double'),\n",
       " ('Cat1_vec', 'vector'),\n",
       " ('Cat3_vec', 'vector'),\n",
       " ('Cat6_vec', 'vector'),\n",
       " ('Cat8_vec', 'vector'),\n",
       " ('Cat9_vec', 'vector'),\n",
       " ('Cat10_vec', 'vector'),\n",
       " ('Cat11_vec', 'vector'),\n",
       " ('Cat12_vec', 'vector'),\n",
       " ('NVCat_vec', 'vector'),\n",
       " ('cat_features', 'vector'),\n",
       " ('features', 'vector'),\n",
       " ('prediction', 'double')]"
      ]
     },
     "execution_count": 37,
     "metadata": {},
     "output_type": "execute_result"
    }
   ],
   "source": [
    "test_predictions_lr.dtypes"
   ]
  },
  {
   "cell_type": "code",
   "execution_count": 38,
   "metadata": {},
   "outputs": [
    {
     "name": "stdout",
     "output_type": "stream",
     "text": [
      "RMSE  = 451.803129759\n",
      "RMSE = 312.574174418\n"
     ]
    }
   ],
   "source": [
    "from pyspark.ml.evaluation import RegressionEvaluator\n",
    "\n",
    "evaluator = RegressionEvaluator(labelCol=\"Claim_Amount\",predictionCol=\"prediction\",metricName=\"rmse\")\n",
    "\n",
    "predictionAndLabels_train_lr = train_predictions_lr.select(\"prediction\", \"Claim_Amount\")\n",
    "train_rsquared_lr = evaluator.evaluate(predictionAndLabels_train_lr)\n",
    "\n",
    "print(\"RMSE  = \" + str(train_rsquared_lr))\n",
    "\n",
    "predictionAndLabels_test_lr = test_predictions_lr.select(\"prediction\", \"Claim_Amount\")\n",
    "test_rsquared_lr = evaluator.evaluate(predictionAndLabels_test_lr)\n",
    "\n",
    "\n",
    "print(\"RMSE = \" + str(test_rsquared_lr))"
   ]
  },
  {
   "cell_type": "code",
   "execution_count": 39,
   "metadata": {},
   "outputs": [],
   "source": [
    "from pyspark.ml.tuning import ParamGridBuilder, CrossValidator"
   ]
  },
  {
   "cell_type": "code",
   "execution_count": 44,
   "metadata": {},
   "outputs": [],
   "source": [
    "paramGrid = ParamGridBuilder()\\\n",
    "    .addGrid(lr.regParam, [0.1]) \\\n",
    "    .addGrid(lr.elasticNetParam, [0.5])\\\n",
    "    .addGrid(lr.maxIter,[100])\\\n",
    "    .build()\n",
    "    \n",
    "lr_crossval = CrossValidator(estimator=lr_Pipeline,\n",
    "                             estimatorParamMaps=paramGrid,\n",
    "                             evaluator=evaluator,\n",
    "                             numFolds=2)     "
   ]
  },
  {
   "cell_type": "code",
   "execution_count": 48,
   "metadata": {},
   "outputs": [],
   "source": [
    "#Run cross-validation, and choose the best set of parameters.\n",
    "lr_crossval_Model = lr_crossval.fit(train_DF)"
   ]
  },
  {
   "cell_type": "code",
   "execution_count": null,
   "metadata": {},
   "outputs": [],
   "source": [
    "train_predictions_lrcv = lr_crossval_Model.transform(train_DF)\n",
    "test_predictions_lrcv = lr_crossval_Model.transform(test_DF)"
   ]
  },
  {
   "cell_type": "code",
   "execution_count": null,
   "metadata": {},
   "outputs": [],
   "source": [
    "predictionAndLabels_train_lrcv = train_predictions_lrcv.select(\"prediction\", \"Claim_Amount\")\n",
    "train_rmsecv = evaluator.evaluate(predictionAndLabels_train_lrcv)\n",
    "print(\"RMSE  = \" + str(train_rmsecv))\n",
    "\n",
    "predictionAndLabels_test_lrcv = test_predictions_lrcv.select(\"prediction\", \"Claim_Amount\")\n",
    "test_rmsecv = evaluator.evaluate(predictionAndLabels_test_lrcv)\n",
    "print(\"RMSE = \" + str(test_rmsecv))"
   ]
  },
  {
   "cell_type": "code",
   "execution_count": 46,
   "metadata": {},
   "outputs": [],
   "source": [
    "from pyspark.ml.regression import DecisionTreeRegressor\n",
    "\n",
    "dt = DecisionTreeRegressor(labelCol=\"Claim_Amount\", featuresCol=\"features\")"
   ]
  },
  {
   "cell_type": "code",
   "execution_count": 47,
   "metadata": {},
   "outputs": [],
   "source": [
    "dt_Pipeline = Pipeline(stages=preprocessiong_Stages+[dt]) \n",
    "\n",
    "dt_Pipeline_model = dt_Pipeline.fit(train_DF)"
   ]
  },
  {
   "cell_type": "code",
   "execution_count": 49,
   "metadata": {},
   "outputs": [],
   "source": [
    "train_predictions_dt = dt_Pipeline_model.transform(train_DF)\n",
    "test_predictions_dt = dt_Pipeline_model.transform(test_DF)"
   ]
  },
  {
   "cell_type": "code",
   "execution_count": 50,
   "metadata": {},
   "outputs": [
    {
     "name": "stdout",
     "output_type": "stream",
     "text": [
      "+-------------+----------+----------+-----------+--------------+----+----+----+----+----+-----+-----+-----+----------+----------+----------+----------+----------+----------+---------+----------+-----+----------+----------+----------+----------+------------+-----------+--------------------+--------------------+----------+----------+----------+----------+----------+-----------+-----------+-----------+-----------+--------------+-------------+-------------+-------------+-------------+-------------+-------------+-------------+--------------+--------------------+--------------------+------------------+\n",
      "|Calendar_Year|Model_Year|Blind_Make|Blind_Model|Blind_Submodel|Cat1|Cat3|Cat6|Cat8|Cat9|Cat10|Cat11|Cat12|      Var1|      Var2|      Var3|      Var4|      Var5|      Var6|     Var7|      Var8|NVCat|    NVVar1|    NVVar2|    NVVar3|    NVVar4|Claim_Amount|Vehicle_age|        num_features| scaled_num_features|Cat1_index|Cat3_index|Cat6_index|Cat8_index|Cat9_index|Cat10_index|Cat11_index|Cat12_index|NVCat_index|      Cat1_vec|     Cat3_vec|     Cat6_vec|     Cat8_vec|     Cat9_vec|    Cat10_vec|    Cat11_vec|    Cat12_vec|     NVCat_vec|        cat_features|            features|        prediction|\n",
      "+-------------+----------+----------+-----------+--------------+----+----+----+----+----+-----+-----+-----+----------+----------+----------+----------+----------+----------+---------+----------+-----+----------+----------+----------+----------+------------+-----------+--------------------+--------------------+----------+----------+----------+----------+----------+-----------+-----------+-----------+-----------+--------------+-------------+-------------+-------------+-------------+-------------+-------------+-------------+--------------+--------------------+--------------------+------------------+\n",
      "|         2007|      2003|         Y|       Y.10|        Y.10.2|   B|   B|   C|   B|   B|    B|    B|    D|-0.6337572|-0.8161519|-0.9622487|-0.8675874| -0.608711|-1.0654117|-0.984499|-0.7638965|    N|-0.2315299| 2.7836161|-0.2723372|-0.2514189|    27.25551|          4|[2007.0,2003.0,-0...|[2.0,0.8461538461...|       0.0|       1.0|       1.0|       1.0|       0.0|        1.0|        1.0|        2.0|        2.0|(10,[0],[1.0])|(6,[1],[1.0])|(5,[1],[1.0])|(3,[1],[1.0])|(1,[0],[1.0])|(3,[1],[1.0])|(6,[1],[1.0])|(5,[2],[1.0])|(14,[2],[1.0])|(53,[0,11,17,22,2...|(68,[0,1,2,3,4,5,...|171.61289091126403|\n",
      "|         2007|      1994|        BW|      BW.95|       BW.95.0|   D|   C|   C|   A|   B|    A|    A|    C|-0.2962881| -1.196557|-0.9622487|-1.2396888|-0.1864638|-0.8946339|0.0353729|-1.2083631|    B|-0.2315299|-0.2661168| 5.7033172|-0.2514189|    5.701752|         13|[2007.0,1994.0,-0...|[2.0,0.5,0.264957...|       2.0|       2.0|       1.0|       0.0|       0.0|        0.0|        0.0|        1.0|        7.0|(10,[2],[1.0])|(6,[2],[1.0])|(5,[1],[1.0])|(3,[0],[1.0])|(1,[0],[1.0])|(3,[0],[1.0])|(6,[0],[1.0])|(5,[1],[1.0])|(14,[7],[1.0])|(53,[2,12,17,21,2...|(68,[0,1,2,3,4,5,...| 94.81846213379939|\n",
      "+-------------+----------+----------+-----------+--------------+----+----+----+----+----+-----+-----+-----+----------+----------+----------+----------+----------+----------+---------+----------+-----+----------+----------+----------+----------+------------+-----------+--------------------+--------------------+----------+----------+----------+----------+----------+-----------+-----------+-----------+-----------+--------------+-------------+-------------+-------------+-------------+-------------+-------------+-------------+--------------+--------------------+--------------------+------------------+\n",
      "only showing top 2 rows\n",
      "\n"
     ]
    }
   ],
   "source": [
    "test_predictions_dt.show(2)"
   ]
  },
  {
   "cell_type": "code",
   "execution_count": 51,
   "metadata": {},
   "outputs": [
    {
     "name": "stdout",
     "output_type": "stream",
     "text": [
      "RMSE  = 438.563460983\n",
      "RMSE = 323.986697624\n"
     ]
    }
   ],
   "source": [
    "predictionAndLabels_train_dt = train_predictions_dt.select(\"prediction\", \"Claim_Amount\")\n",
    "train_rmse_dt = evaluator.evaluate(predictionAndLabels_train_dt)\n",
    "\n",
    "print(\"RMSE  = \" + str(train_rmse_dt))\n",
    "\n",
    "predictionAndLabels_test_dt = test_predictions_dt.select(\"prediction\", \"Claim_Amount\")\n",
    "test_rmse_dt = evaluator.evaluate(predictionAndLabels_test_dt)\n",
    "\n",
    "print(\"RMSE = \" + str(test_rmse_dt))"
   ]
  },
  {
   "cell_type": "code",
   "execution_count": 52,
   "metadata": {},
   "outputs": [],
   "source": [
    "paramGridDT = ParamGridBuilder()\\\n",
    "    .addGrid(dt.maxDepth, [4]) \\\n",
    "    .build()\n",
    "    \n",
    "dt_crossval = CrossValidator(estimator=dt_Pipeline,\n",
    "                             estimatorParamMaps=paramGridDT,\n",
    "                             evaluator=evaluator,\n",
    "                             numFolds=2)     "
   ]
  },
  {
   "cell_type": "code",
   "execution_count": 54,
   "metadata": {},
   "outputs": [],
   "source": [
    "# Run cross-validation, and choose the best set of parameters.\n",
    "dt_crossval_Model = dt_crossval.fit(train_DF)"
   ]
  },
  {
   "cell_type": "code",
   "execution_count": null,
   "metadata": {},
   "outputs": [],
   "source": [
    "train_predictions_dtcv = dt_crossval_Model.transform(train_DF)\n",
    "test_predictions_dtcv = dt_crossval_Model.transform(test_DF)"
   ]
  },
  {
   "cell_type": "code",
   "execution_count": null,
   "metadata": {},
   "outputs": [],
   "source": [
    "predictionAndLabels_train_dtcv = train_predictions_dtcv.select(\"prediction\", \"Claim_Amount\")\n",
    "train_rmsedtcv = evaluator.evaluate(predictionAndLabels_train_dtcv)\n",
    "print(\"RMSE  = \" + str(train_rmsedtcv))\n",
    "\n",
    "predictionAndLabels_test_dtcv = test_predictions_dtcv.select(\"prediction\", \"Claim_Amount\")\n",
    "test_rmsedtcv = evaluator.evaluate(predictionAndLabels_test_dtcv)\n",
    "print(\"RMSE = \" + str(test_rmsedtcv))"
   ]
  }
 ],
 "metadata": {
  "kernelspec": {
   "display_name": "Python 2",
   "language": "python",
   "name": "python2"
  },
  "language_info": {
   "codemirror_mode": {
    "name": "ipython",
    "version": 2
   },
   "file_extension": ".py",
   "mimetype": "text/x-python",
   "name": "python",
   "nbconvert_exporter": "python",
   "pygments_lexer": "ipython2",
   "version": "2.7.5"
  }
 },
 "nbformat": 4,
 "nbformat_minor": 2
}
